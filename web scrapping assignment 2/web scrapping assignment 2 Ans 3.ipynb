{
 "cells": [
  {
   "cell_type": "code",
   "execution_count": null,
   "id": "c5e75692",
   "metadata": {},
   "outputs": [],
   "source": [
    "driver = webdriver.Chrome(r\"C:\\Users\\Neha\\Downloads\\chromedriver_win32\\chromedriver.exe\")"
   ]
  },
  {
   "cell_type": "code",
   "execution_count": null,
   "id": "fac6a4c4",
   "metadata": {},
   "outputs": [],
   "source": [
    "url = \"https://www.naukri.com\"\n",
    "driver.get(url)"
   ]
  },
  {
   "cell_type": "code",
   "execution_count": null,
   "id": "7ac2e982",
   "metadata": {},
   "outputs": [],
   "source": [
    "search_job = driver.find_element_by_xpath(\"//input[@class='sugInp']\")\n",
    "search_job"
   ]
  },
  {
   "cell_type": "code",
   "execution_count": null,
   "id": "4631327f",
   "metadata": {},
   "outputs": [],
   "source": [
    "search_job.send_keys('Data Scientist')"
   ]
  },
  {
   "cell_type": "code",
   "execution_count": null,
   "id": "24a2020e",
   "metadata": {},
   "outputs": [],
   "source": [
    "search_btn= driver .find_element_by_xpath(\"//button[@class='btn']\")\n",
    "search_btn"
   ]
  },
  {
   "cell_type": "code",
   "execution_count": null,
   "id": "eb823084",
   "metadata": {},
   "outputs": [],
   "source": [
    "search_btn=driver.find_element_by_class_name('btn')\n",
    "search_btn.click()"
   ]
  },
  {
   "cell_type": "code",
   "execution_count": null,
   "id": "7f5fb162",
   "metadata": {},
   "outputs": [],
   "source": [
    "title_t1=driver.find_elements_by_xpath(\"//a[@class='title fw500 ellipsis']\")\n",
    "title_t1"
   ]
  },
  {
   "cell_type": "code",
   "execution_count": null,
   "id": "5d4b4cbf",
   "metadata": {},
   "outputs": [],
   "source": [
    "job_titles=[]\n",
    "for i in title_t1:\n",
    "    if i.text is None:\n",
    "        job_titles.append('Not')\n",
    "    else:\n",
    "        job_titles.append(i.text)\n",
    "job_titles[:10] "
   ]
  },
  {
   "cell_type": "code",
   "execution_count": null,
   "id": "752aee09",
   "metadata": {},
   "outputs": [],
   "source": [
    "company_t1=driver.find_elements_by_xpath(\"//a[@class='subTitle ellipsis fleft']\")\n",
    "company_t1"
   ]
  },
  {
   "cell_type": "code",
   "execution_count": null,
   "id": "c537bf50",
   "metadata": {},
   "outputs": [],
   "source": [
    "companies_names=[]\n",
    "\n",
    "for i in company_t1:\n",
    "    companies_names.append(i.text)\n",
    "companies_names[:10]  "
   ]
  },
  {
   "cell_type": "code",
   "execution_count": null,
   "id": "f9292c34",
   "metadata": {},
   "outputs": [],
   "source": [
    "experience_t1=driver.find_elements_by_xpath(\"//li[@class='fleft grey-text br2 placeHolderLi experience'] //span\")\n",
    "experience_t1"
   ]
  },
  {
   "cell_type": "code",
   "execution_count": null,
   "id": "b6de0b29",
   "metadata": {},
   "outputs": [],
   "source": [
    "experience_list=[]\n",
    "for i in experience_t1:\n",
    "    experience_list.append(i.text)\n",
    "experience_list[:10]   "
   ]
  },
  {
   "cell_type": "code",
   "execution_count": null,
   "id": "002a7a0c",
   "metadata": {},
   "outputs": [],
   "source": [
    "locations_t1=driver.find_elements_by_xpath(\"//li[@class='fleft grey-text br2 placeHolderLi location']/span\")\n",
    "locations_t1"
   ]
  },
  {
   "cell_type": "code",
   "execution_count": null,
   "id": "ed26c9b9",
   "metadata": {},
   "outputs": [],
   "source": [
    "locations_list=[]\n",
    "for i in locations_t1:\n",
    "    locations_list.append(i.text)\n",
    "locations_list[:10]    "
   ]
  },
  {
   "cell_type": "code",
   "execution_count": null,
   "id": "cfa19161",
   "metadata": {},
   "outputs": [],
   "source": [
    "print(len(job_titles[:10])),print(len(companies_names[:10])),print(len(experience_list[:10])),print(len(locations_list[:10]))"
   ]
  },
  {
   "cell_type": "code",
   "execution_count": null,
   "id": "b57811ea",
   "metadata": {},
   "outputs": [],
   "source": [
    "jobs2=pd.DataFrame({})\n",
    "jobs2['title']=job_titles[:10]\n",
    "jobs2['company']=companies_names[:10]\n",
    "jobs2['experience_required']=experience_list[:10]\n",
    "jobs2['location']=locations_list[:10]"
   ]
  },
  {
   "cell_type": "code",
   "execution_count": null,
   "id": "d99ed54e",
   "metadata": {},
   "outputs": [],
   "source": [
    "jobs2"
   ]
  },
  {
   "cell_type": "code",
   "execution_count": null,
   "id": "105d7892",
   "metadata": {},
   "outputs": [],
   "source": [
    "driver.close()"
   ]
  }
 ],
 "metadata": {
  "kernelspec": {
   "display_name": "Python 3 (ipykernel)",
   "language": "python",
   "name": "python3"
  },
  "language_info": {
   "codemirror_mode": {
    "name": "ipython",
    "version": 3
   },
   "file_extension": ".py",
   "mimetype": "text/x-python",
   "name": "python",
   "nbconvert_exporter": "python",
   "pygments_lexer": "ipython3",
   "version": "3.9.12"
  }
 },
 "nbformat": 4,
 "nbformat_minor": 5
}
